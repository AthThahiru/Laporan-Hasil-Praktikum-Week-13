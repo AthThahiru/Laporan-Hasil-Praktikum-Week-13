{
  "nbformat": 4,
  "nbformat_minor": 0,
  "metadata": {
    "colab": {
      "provenance": [],
      "authorship_tag": "ABX9TyN/SsKmElASaGTjgWD1n0KB",
      "include_colab_link": true
    },
    "kernelspec": {
      "name": "python3",
      "display_name": "Python 3"
    },
    "language_info": {
      "name": "python"
    }
  },
  "cells": [
    {
      "cell_type": "markdown",
      "metadata": {
        "id": "view-in-github",
        "colab_type": "text"
      },
      "source": [
        "<a href=\"https://colab.research.google.com/github/AthThahiru/Laporan-Hasil-Praktikum-Week-13/blob/main/Week_13.ipynb\" target=\"_parent\"><img src=\"https://colab.research.google.com/assets/colab-badge.svg\" alt=\"Open In Colab\"/></a>"
      ]
    },
    {
      "cell_type": "code",
      "execution_count": 5,
      "metadata": {
        "id": "NlzacFfXiBWC",
        "colab": {
          "base_uri": "https://localhost:8080/"
        },
        "outputId": "cb6e8b62-1ccd-47e5-bdb5-86b5821d3e9a"
      },
      "outputs": [
        {
          "output_type": "stream",
          "name": "stdout",
          "text": [
            "Nama            : Bolpoint\n",
            "Stok            : 10\n",
            "Harga           : Rp.2000\n",
            "Harga Total     : Rp.20000\n",
            "\n",
            "Nama            : Pensil\n",
            "Stok            : 10\n",
            "Harga           : Rp.1000\n",
            "Harga Total     : Rp.10000\n",
            "\n",
            "Nama            : Penghapus\n",
            "Stok            : 10\n",
            "Harga           : Rp.500\n",
            "Harga Total     : Rp.5000\n",
            "\n",
            "Total Penjualan : Rp.35000\n"
          ]
        }
      ],
      "source": [
        "class alattulis                         :\n",
        "  def __init__(self, nama, stok, harga) :\n",
        "    self.nama       = nama\n",
        "    self.stok       = stok\n",
        "    self.harga      = harga\n",
        "    self.hargatotal = self.stok * self.harga\n",
        "\n",
        "  def setnama(self, nama)               :\n",
        "    self.nama       = nama\n",
        "\n",
        "  def setstok(self, stok)               :\n",
        "    self.stok       = stok\n",
        "    self.hargatotal = self.stok * self.harga\n",
        "\n",
        "  def setharga(self, harga)             :\n",
        "    self.harga      = harga\n",
        "    self.hargatotal = self.stok * self.harga\n",
        "\n",
        "  def getnama(self)                     :\n",
        "    return self.nama\n",
        "\n",
        "  def getstok(self)                     :\n",
        "    return self.stok\n",
        "\n",
        "  def getharga(self)                    :\n",
        "    return self.harga\n",
        "\n",
        "  def gethargatotal(self)               :\n",
        "    return self.hargatotal\n",
        "\n",
        "\n",
        "bolpoint  = alattulis(\"Bolpoint\", 10, 2000)\n",
        "pensil    = alattulis(\"Pensil\", 10, 1000)\n",
        "penghapus = alattulis(\"Penghapus\", 10, 500)\n",
        "\n",
        "def display(alat)                       :\n",
        "  print(f\"Nama            : {alat.getnama()}\")\n",
        "  print(f\"Stok            : {alat.getstok()}\")\n",
        "  print(f\"Harga           : Rp.{alat.getharga()}\")\n",
        "  print(f\"Harga Total     : Rp.{alat.gethargatotal()}\")\n",
        "  print()\n",
        "\n",
        "display(bolpoint)\n",
        "display(pensil)\n",
        "display(penghapus)\n",
        "\n",
        "totalpenjualan = bolpoint.gethargatotal() + pensil.gethargatotal() + penghapus.gethargatotal()\n",
        "print(f\"Total Penjualan : Rp.{totalpenjualan}\")\n"
      ]
    }
  ]
}